{
 "cells": [
  {
   "cell_type": "markdown",
   "id": "653c4fba",
   "metadata": {},
   "source": [
    "### Линейное пространство. Основные понятия. Часть 2"
   ]
  },
  {
   "cell_type": "markdown",
   "id": "556a98b7",
   "metadata": {},
   "source": [
    "#### 1. Найти скалярное произведение векторов  x,y∈R :\n",
    "    а)  x=(0,−3,6), y=(−4,7,9); \n",
    "    б)  x=(7,−4,0,1), y=(−3,1,11,2)."
   ]
  },
  {
   "cell_type": "code",
   "execution_count": 1,
   "id": "11739c46",
   "metadata": {},
   "outputs": [],
   "source": [
    "import numpy as np\n",
    "from numpy.linalg import norm"
   ]
  },
  {
   "cell_type": "code",
   "execution_count": 2,
   "id": "fa4e937a",
   "metadata": {},
   "outputs": [
    {
     "name": "stdout",
     "output_type": "stream",
     "text": [
      "а) 33\n",
      "б) -23\n"
     ]
    }
   ],
   "source": [
    "# a)\n",
    "x1 = np.array([0, -3, 6])\n",
    "y1 = np.array([-4, 7, 9])\n",
    "xy1 = np.dot(x1, y1)\n",
    "\n",
    "# б)\n",
    "x2 = np.array([7, -4, 0, 1])\n",
    "y2 = np.array([-3, 1, 11, 2])\n",
    "xy2 = np.dot(x2, y2)\n",
    "\n",
    "print(f'а) {xy1}\\nб) {xy2}')"
   ]
  },
  {
   "cell_type": "markdown",
   "id": "0f5c61e3",
   "metadata": {},
   "source": [
    "#### 2. Найти нормы векторов  (4,2,4)  и  (12,3,4)  и угол между ними."
   ]
  },
  {
   "cell_type": "code",
   "execution_count": 3,
   "id": "02c3081a",
   "metadata": {
    "scrolled": true
   },
   "outputs": [
    {
     "name": "stdout",
     "output_type": "stream",
     "text": [
      "l1 Манхетовская норма вектора a: 10.0\n",
      "l1 Манхетовская норма вектора b: 19.0\n"
     ]
    }
   ],
   "source": [
    "a = np.array([4, 2, 4])\n",
    "b = np.array([12, 3, 4])\n",
    "\n",
    "print(f'l1 Манхетовская норма вектора a: {norm(a, ord=1)}')\n",
    "print(f'l1 Манхетовская норма вектора b: {norm(b, ord=1)}')"
   ]
  },
  {
   "cell_type": "code",
   "execution_count": 4,
   "id": "99aa4ddf",
   "metadata": {
    "scrolled": true
   },
   "outputs": [
    {
     "name": "stdout",
     "output_type": "stream",
     "text": [
      "l2 Евклидова норма вектора а: 6.0\n",
      "l2 Евклидова норма вектора b: 13.0\n"
     ]
    }
   ],
   "source": [
    "print(f'l2 Евклидова норма вектора а: {norm(a, ord=2)}')\n",
    "print(f'l2 Евклидова норма вектора b: {norm(b, ord=2)}')"
   ]
  },
  {
   "cell_type": "code",
   "execution_count": 5,
   "id": "fbe0b733",
   "metadata": {},
   "outputs": [
    {
     "name": "stdout",
     "output_type": "stream",
     "text": [
      "Угол между векторами = 0.46\n"
     ]
    }
   ],
   "source": [
    "cos_phi = np.dot(a, b) / norm(a) / norm(b)\n",
    "print(f'Угол между векторами = {np.arccos(cos_phi):.2f}')"
   ]
  },
  {
   "cell_type": "markdown",
   "id": "d1004d27",
   "metadata": {},
   "source": [
    "#### 3. Будет ли линейное пространство евклидовым, если за скалярное произведение принять:\n",
    "    а) произведение длин векторов;\n",
    "    б) утроенное обычное скалярное произведение векторов?"
   ]
  },
  {
   "cell_type": "markdown",
   "id": "af169313",
   "metadata": {},
   "source": [
    "a) Нет. Не будут выполнениы аксиомы евклидова пространства.\n",
    "\n",
    "б) Да. Утроение обычного скалярного произведения векторов не будет противоречить четырём аксиомам."
   ]
  },
  {
   "cell_type": "markdown",
   "id": "731e87fa",
   "metadata": {},
   "source": [
    "#### 4. Какие из нижеперечисленных векторов образуют ортонормированный базис в линейном пространстве  R3 :\n",
    "    а)  (1, 0, 0),(0, 0, 1); \n",
    "    б)  (1/√2,−1/√2, 0),(1/√2, 1/√2, 0),(0, 0, 1); \n",
    "    в)  (1/2, −1/2, 0),(0, 1/2, 1/2),(0, 0, 1); \n",
    "    г)  (1, 0, 0),(0, 1, 0),(0, 0, 1)?"
   ]
  },
  {
   "cell_type": "markdown",
   "id": "70a2c608",
   "metadata": {},
   "source": [
    "а) не хватает ещё одного вектора"
   ]
  },
  {
   "cell_type": "code",
   "execution_count": 6,
   "id": "12cc9814",
   "metadata": {},
   "outputs": [
    {
     "name": "stdout",
     "output_type": "stream",
     "text": [
      "a * b = 0.0\n",
      "a * c = 0.0\n",
      "c * b = 0.0\n",
      "\n",
      "a * a = 1\n",
      "b * b = 1\n",
      "c * c = 1\n"
     ]
    }
   ],
   "source": [
    "# б) (1/√2,−1/√2, 0),(1/√2, 1/√2, 0),(0, 0, 1)\n",
    "\n",
    "a = np.array([1 / (2) ** 0.5, -1 / (2) ** 0.5, 0])\n",
    "b = np.array([1 / (2) ** 0.5, 1 / (2) ** 0.5, 0])\n",
    "c = np.array([0, 0, 1])\n",
    "\n",
    "print(f'a * b = {a @ b}')\n",
    "print(f'a * c = {a @ c}')\n",
    "print(f'c * b = {c @ b}\\n')\n",
    "\n",
    "print(f'a * a = {a @ a:.0f}')\n",
    "print(f'b * b = {b @ b:.0f}')\n",
    "print(f'c * c = {c @ c:.0f}')"
   ]
  },
  {
   "cell_type": "markdown",
   "id": "12cca1e8",
   "metadata": {},
   "source": [
    "Выполняются условия произведения друг да друга и на самих себя, поэтому векторы __образуют__ ортонормированный базис"
   ]
  },
  {
   "cell_type": "code",
   "execution_count": 7,
   "id": "5f39ae82",
   "metadata": {},
   "outputs": [
    {
     "name": "stdout",
     "output_type": "stream",
     "text": [
      "a * b = -0.25\n",
      "a * c = 0.0\n",
      "c * b = 0.5\n",
      "\n",
      "a * a = 0\n",
      "b * b = 0\n",
      "c * c = 1\n"
     ]
    }
   ],
   "source": [
    "# в) (1/2, −1/2, 0),(0, 1/2, 1/2),(0, 0, 1)\n",
    "\n",
    "a = np.array([1 / 2, -1 / 2, 0])\n",
    "b = np.array([0, 1 / 2, 1 / 2])\n",
    "c = np.array([0, 0, 1])\n",
    "\n",
    "print(f'a * b = {a @ b}')\n",
    "print(f'a * c = {a @ c}')\n",
    "print(f'c * b = {c @ b}\\n')\n",
    "\n",
    "print(f'a * a = {a @ a:.0f}')\n",
    "print(f'b * b = {b @ b:.0f}')\n",
    "print(f'c * c = {c @ c:.0f}')"
   ]
  },
  {
   "cell_type": "markdown",
   "id": "2cb4ae04",
   "metadata": {},
   "source": [
    "Не выполняются условия произведения друг да друга и на самих себя, поэтому векторы __не образуют__ ортонормированный базис"
   ]
  },
  {
   "cell_type": "code",
   "execution_count": 8,
   "id": "6ef0db80",
   "metadata": {},
   "outputs": [
    {
     "name": "stdout",
     "output_type": "stream",
     "text": [
      "a * b = 0\n",
      "a * c = 0\n",
      "c * b = 0\n",
      "\n",
      "a * a = 1\n",
      "b * b = 1\n",
      "c * c = 1\n"
     ]
    }
   ],
   "source": [
    "# г) (1, 0, 0),(0, 1, 0),(0, 0, 1)\n",
    "\n",
    "a = np.array([1, 0, 0])\n",
    "b = np.array([0, 1, 0])\n",
    "c = np.array([0, 0, 1])\n",
    "\n",
    "print(f'a * b = {a @ b}')\n",
    "print(f'a * c = {a @ c}')\n",
    "print(f'c * b = {c @ b}\\n')\n",
    "\n",
    "print(f'a * a = {a @ a:.0f}')\n",
    "print(f'b * b = {b @ b:.0f}')\n",
    "print(f'c * c = {c @ c:.0f}')"
   ]
  },
  {
   "cell_type": "markdown",
   "id": "478c9e90",
   "metadata": {},
   "source": [
    "Выполняются условия произведения друг да друга и на самих себя, поэтому векторы __образуют__ ортонормированный базис.\n",
    "\n",
    "Хотя тут из самих векторов понятно, что образуют."
   ]
  }
 ],
 "metadata": {
  "kernelspec": {
   "display_name": "Python 3",
   "language": "python",
   "name": "python3"
  },
  "language_info": {
   "codemirror_mode": {
    "name": "ipython",
    "version": 3
   },
   "file_extension": ".py",
   "mimetype": "text/x-python",
   "name": "python",
   "nbconvert_exporter": "python",
   "pygments_lexer": "ipython3",
   "version": "3.9.0"
  }
 },
 "nbformat": 4,
 "nbformat_minor": 5
}
